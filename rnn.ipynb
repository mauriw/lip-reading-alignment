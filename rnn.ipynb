{
 "metadata": {
  "language_info": {
   "codemirror_mode": {
    "name": "ipython",
    "version": 3
   },
   "file_extension": ".py",
   "mimetype": "text/x-python",
   "name": "python",
   "nbconvert_exporter": "python",
   "pygments_lexer": "ipython3",
   "version": "3.9.2"
  },
  "orig_nbformat": 2,
  "kernelspec": {
   "name": "python392jvsc74a57bd0ca3d66b0cc3b63dac96a02aa79089fe48e6a34564e6448baacc81521b64b9804",
   "display_name": "Python 3.9.2 64-bit ('base': conda)"
  },
  "metadata": {
   "interpreter": {
    "hash": "ca3d66b0cc3b63dac96a02aa79089fe48e6a34564e6448baacc81521b64b9804"
   }
  }
 },
 "nbformat": 4,
 "nbformat_minor": 2,
 "cells": [
  {
   "source": [
    "TODO:\n",
    "- commit\n",
    "- create \n",
    "- creat"
   ],
   "cell_type": "markdown",
   "metadata": {}
  },
  {
   "cell_type": "code",
   "execution_count": 7,
   "metadata": {},
   "outputs": [],
   "source": [
    "import torch \n",
    "import torch.nn as nn\n",
    "import torch.optim as optim\n",
    "import pytorch_lightning as pl\n",
    "from torch.utils.data import DataLoader, TensorDataset\n",
    "\n",
    "import numpy as np\n",
    "from sklearn.model_selection import train_test_split"
   ]
  },
  {
   "cell_type": "code",
   "execution_count": 41,
   "metadata": {},
   "outputs": [],
   "source": [
    "class DataModule(pl.LightningDataModule):\n",
    "    def __init__(self, batch_size):\n",
    "        super().__init__()\n",
    "        self.x = np.random.randn(100, 32, 512) # 100 datapoints of 32 consecutive 512-d embeddings\n",
    "        self.y = np.random.randn(100, 32, 1) # 100 datapoints of 32 consecutive labels\n",
    "        self.batch_size = batch_size\n",
    "\n",
    "    def setup(self, stage):\n",
    "        X_train, X_test, y_train, y_test = train_test_split(self.x, self.y, test_size=0.30, random_state=42)\n",
    "        X_val, X_test, y_val, y_test = train_test_split(X_test, y_test, test_size=0.50, random_state=42)\n",
    "        self.train = TensorDataset(torch.from_numpy(X_train).float(), torch.from_numpy(y_train).float())\n",
    "        self.val = TensorDataset(torch.from_numpy(X_val).float(), torch.from_numpy(y_val).float())\n",
    "        self.test = TensorDataset(torch.from_numpy(X_test).float(), torch.from_numpy(y_test).float())\n",
    "    \n",
    "    def train_dataloader(self):\n",
    "        return DataLoader(self.train, batch_size=self.batch_size)\n",
    "\n",
    "    def val_dataloader(self):\n",
    "        return DataLoader(self.val, batch_size=self.batch_size)\n",
    "\n",
    "    def test_dataloader(self):\n",
    "        return DataLoader(self.test, batch_size=self.batch_size)"
   ]
  },
  {
   "cell_type": "code",
   "execution_count": 48,
   "metadata": {},
   "outputs": [
    {
     "output_type": "execute_result",
     "data": {
      "text/plain": [
       "torch.Size([40, 32, 512])"
      ]
     },
     "metadata": {},
     "execution_count": 48
    }
   ],
   "source": [
    "dm = DataModule(batch_size=40)\n",
    "dm.setup('fit')\n",
    "xi, yi = next(iter(dm.train_dataloader()))\n",
    "xi.shape\n",
    "\n",
    "#     seq_len = 32\n",
    "#  batch_size = 40\n",
    "# hidden_size = 64"
   ]
  },
  {
   "cell_type": "code",
   "execution_count": 49,
   "metadata": {},
   "outputs": [],
   "source": [
    "SEQ_LEN = 32\n",
    "BATCH_SIZE = 40\n",
    "class LipReader(nn.Module):\n",
    "    def __init__(self, hidden_size, num_layers, dropout_rate, bidirectional):\n",
    "        super(LipReader, self).__init__()\n",
    "        num_directions = 2 if bidirectional else 1\n",
    "        self.gru = nn.GRU(input_size=512, hidden_size=hidden_size, num_layers=num_layers, \n",
    "            batch_first=True, bidirectional=bidirectional)\n",
    "        self.linear = nn.Linear(in_features=num_directions*hidden_size, out_features=1)\n",
    "        self.sigmoid = nn.Sigmoid()\n",
    "\n",
    "        # For debugging\n",
    "        self.num_directions = num_directions\n",
    "        self.hidden_size = hidden_size\n",
    "        self.num_layers = num_layers\n",
    "\n",
    "    def forward(self, embeddings):\n",
    "        \"\"\"\n",
    "        args:\n",
    "            - embeddings: shape (batch_size, seq_length, 512)\n",
    "        \n",
    "        returns:\n",
    "            - probabilities: shape (batch_size, seq_length, 1)\n",
    "        \"\"\"\n",
    "        output, _ = self.gru(embeddings)\n",
    "        assert output.shape == (SEQ_LEN, BATCH_SIZE, self.num_directions * self.hidden_size)\n",
    "        # output from last layer of gru for each t: is (seq_len, batch, num_directions * hidden_size] e.g. (32, 40, 64)\n",
    "        \n",
    "        output = torch.transpose(output, 0, 1)\n",
    "        assert output.shape == (BATCH_SIZE, SEQ_LEN, self.num_directions * self.hidden_size)\n",
    "\n",
    "        score = self.linear(output)\n",
    "        assert score.shape == (BATCH_SIZE, SEQ_LEN, 1)\n",
    "\n",
    "        score = torch.squeeze(score)\n",
    "        assert score.shape == (BATCH_SIZE, SEQ_LEN)\n",
    "\n",
    "        probability = self.sigmoid(score)\n",
    "        assert probability.shape == (BATCH_SIZE, SEQ_LEN)\n",
    "\n",
    "        return probability"
   ]
  },
  {
   "cell_type": "code",
   "execution_count": null,
   "metadata": {},
   "outputs": [],
   "source": [
    "LipReade"
   ]
  }
 ]
}