{
 "metadata": {
  "language_info": {
   "codemirror_mode": {
    "name": "ipython",
    "version": 3
   },
   "file_extension": ".py",
   "mimetype": "text/x-python",
   "name": "python",
   "nbconvert_exporter": "python",
   "pygments_lexer": "ipython3",
   "version": "3.9.2"
  },
  "orig_nbformat": 2,
  "kernelspec": {
   "name": "python392jvsc74a57bd0ca3d66b0cc3b63dac96a02aa79089fe48e6a34564e6448baacc81521b64b9804",
   "display_name": "Python 3.9.2 64-bit ('base': conda)"
  },
  "metadata": {
   "interpreter": {
    "hash": "ca3d66b0cc3b63dac96a02aa79089fe48e6a34564e6448baacc81521b64b9804"
   }
  }
 },
 "nbformat": 4,
 "nbformat_minor": 2,
 "cells": [
  {
   "source": [
    "TODO:\n",
    "- build out the validation and logging with Tensorboard support"
   ],
   "cell_type": "markdown",
   "metadata": {}
  },
  {
   "cell_type": "code",
   "execution_count": 18,
   "metadata": {},
   "outputs": [],
   "source": [
    "%load_ext autoreload\n",
    "%autoreload 2"
   ]
  },
  {
   "cell_type": "code",
   "execution_count": 42,
   "metadata": {},
   "outputs": [],
   "source": [
    "import torch \n",
    "import torch.nn as nn\n",
    "import pytorch_lightning as pl\n",
    "import constants\n",
    "from torch.utils.data import DataLoader, TensorDataset\n",
    "\n",
    "import numpy as np\n",
    "from sklearn.model_selection import train_test_split"
   ]
  },
  {
   "cell_type": "code",
   "execution_count": 43,
   "metadata": {},
   "outputs": [],
   "source": [
    "class DataModule(pl.LightningDataModule):\n",
    "    def __init__(self, batch_size):\n",
    "        super().__init__()\n",
    "        self.x = np.random.randn(100, constants.SEQ_LEN, constants.EMBED_LEN) # 100 datapoints of 32 consecutive 512-d embeddings\n",
    "        self.y = np.random.randint(2, size=(100, constants.SEQ_LEN)) # 100 datapoints of 32 consecutive labels\n",
    "        self.batch_size = batch_size\n",
    "        self.pos_weight = self.get_pos_weight()\n",
    "\n",
    "    def get_pos_weight(self):\n",
    "        # To balance our model, since our dataset has a very low prevalence\n",
    "        labels = self.y.ravel()\n",
    "        num_positive = labels.sum()\n",
    "        num_negative = len(labels) - num_positive\n",
    "        pos_weight = num_positive / num_negative\n",
    "        return torch.tensor([pos_weight])\n",
    "\n",
    "    def setup(self, stage):\n",
    "        X_train, X_test, y_train, y_test = train_test_split(self.x, self.y, test_size=0.30, random_state=42)\n",
    "        X_val, X_test, y_val, y_test = train_test_split(X_test, y_test, test_size=0.50, random_state=42)\n",
    "        self.train = TensorDataset(torch.from_numpy(X_train).float(), torch.from_numpy(y_train).float())\n",
    "        self.val = TensorDataset(torch.from_numpy(X_val).float(), torch.from_numpy(y_val).float())\n",
    "        self.test = TensorDataset(torch.from_numpy(X_test).float(), torch.from_numpy(y_test).float())\n",
    "    \n",
    "    def train_dataloader(self):\n",
    "        return DataLoader(self.train, batch_size=self.batch_size)\n",
    "\n",
    "    def val_dataloader(self):\n",
    "        return DataLoader(self.val, batch_size=self.batch_size)\n",
    "\n",
    "    def test_dataloader(self):\n",
    "        return DataLoader(self.test, batch_size=self.batch_size)"
   ]
  },
  {
   "cell_type": "code",
   "execution_count": 58,
   "metadata": {},
   "outputs": [],
   "source": [
    "class LipReader(pl.LightningModule):\n",
    "    def __init__(self, hidden_size, num_layers, dropout_rate, bidirectional, pos_weight):\n",
    "        super().__init__()\n",
    "        num_directions = 2 if bidirectional else 1\n",
    "        self.gru = nn.GRU(input_size=512, hidden_size=hidden_size, num_layers=num_layers, \n",
    "            batch_first=True, bidirectional=bidirectional)\n",
    "        self.linear = nn.Linear(in_features=num_directions*hidden_size, out_features=1)\n",
    "        self.pos_weight = pos_weight\n",
    "\n",
    "        # For debugging\n",
    "        self.num_directions = num_directions\n",
    "        self.hidden_size = hidden_size\n",
    "        self.num_layers = num_layers\n",
    "\n",
    "    def forward(self, x):\n",
    "        \"\"\"\n",
    "        args:\n",
    "            - x: shape (batch_size, seq_length, 512)\n",
    "        \n",
    "        returns:\n",
    "            - probabilities: shape (batch_size, seq_length, 1)\n",
    "        \"\"\"\n",
    "        batch_size = x.shape[0]\n",
    "        assert x.shape == (batch_size, constants.SEQ_LEN, constants.EMBED_LEN), x.shape\n",
    "\n",
    "        output, _ = self.gru(x)\n",
    "        assert output.shape == (batch_size, constants.SEQ_LEN, self.num_directions * self.hidden_size), output.shape\n",
    "    \n",
    "        score = self.linear(output)\n",
    "        assert score.shape == (batch_size, constants.SEQ_LEN, 1)\n",
    "\n",
    "        score = torch.squeeze(score)\n",
    "        assert score.shape == (batch_size, constants.SEQ_LEN)\n",
    "\n",
    "        return score\n",
    "\n",
    "    def training_step(self, batch, batch_idx):\n",
    "        x, y = batch\n",
    "        y_hat = self(x)\n",
    "        loss_fn = nn.BCEWithLogitsLoss(pos_weight=self.pos_weight)\n",
    "        loss = loss_fn(y_hat, y)\n",
    "        return loss\n",
    "    \n",
    "    def configure_optimizers(self):\n",
    "        return torch.optim.Adam(self.parameters())"
   ]
  },
  {
   "cell_type": "code",
   "execution_count": 61,
   "metadata": {},
   "outputs": [
    {
     "output_type": "stream",
     "name": "stderr",
     "text": [
      "GPU available: False, used: False\n",
      "TPU available: False, using: 0 TPU cores\n",
      "/Users/mauriw/miniforge3/lib/python3.9/site-packages/pytorch_lightning/utilities/distributed.py:69: UserWarning: you passed in a val_dataloader but have no validation_step. Skipping val loop\n",
      "  warnings.warn(*args, **kwargs)\n",
      "\n",
      "  | Name   | Type   | Params\n",
      "----------------------------------\n",
      "0 | gru    | GRU    | 104 K \n",
      "1 | linear | Linear | 65    \n",
      "----------------------------------\n",
      "104 K     Trainable params\n",
      "0         Non-trainable params\n",
      "104 K     Total params\n",
      "0.420     Total estimated model params size (MB)\n",
      "Epoch 3:   0%|          | 0/2 [00:00<?, ?it/s, loss=0.664, v_num=7]/Users/mauriw/miniforge3/lib/python3.9/site-packages/pytorch_lightning/utilities/distributed.py:69: UserWarning: The dataloader, train dataloader, does not have many workers which may be a bottleneck. Consider increasing the value of the `num_workers` argument` (try 8 which is the number of cpus on this machine) in the `DataLoader` init to improve performance.\n",
      "  warnings.warn(*args, **kwargs)\n",
      "Epoch 13:   0%|          | 0/2 [03:35<?, ?it/s, loss=0.543, v_num=6]\n",
      "Epoch 49:   0%|          | 0/2 [00:00<?, ?it/s, loss=0.156, v_num=7]/Users/mauriw/miniforge3/lib/python3.9/site-packages/pytorch_lightning/utilities/distributed.py:69: UserWarning: Detected KeyboardInterrupt, attempting graceful shutdown...\n",
      "  warnings.warn(*args, **kwargs)\n"
     ]
    }
   ],
   "source": [
    "dm = DataModule(batch_size=BATCH_SIZE)\n",
    "dm.setup('fit') #try without fit?\n",
    "\n",
    "model = LipReader(hidden_size=32, num_layers=1, dropout_rate=0, bidirectional=True, pos_weight=dm.pos_weight)\n",
    "trainer = pl.Trainer()\n",
    "trainer.fit(model, dm)\n"
   ]
  },
  {
   "cell_type": "code",
   "execution_count": null,
   "metadata": {},
   "outputs": [],
   "source": []
  }
 ]
}