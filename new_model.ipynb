{
 "metadata": {
  "language_info": {
   "codemirror_mode": {
    "name": "ipython",
    "version": 3
   },
   "file_extension": ".py",
   "mimetype": "text/x-python",
   "name": "python",
   "nbconvert_exporter": "python",
   "pygments_lexer": "ipython3",
   "version": "3.9.2"
  },
  "orig_nbformat": 2,
  "kernelspec": {
   "name": "python392jvsc74a57bd0ca3d66b0cc3b63dac96a02aa79089fe48e6a34564e6448baacc81521b64b9804",
   "display_name": "Python 3.9.2 64-bit ('base': conda)"
  },
  "metadata": {
   "interpreter": {
    "hash": "ca3d66b0cc3b63dac96a02aa79089fe48e6a34564e6448baacc81521b64b9804"
   }
  }
 },
 "nbformat": 4,
 "nbformat_minor": 2,
 "cells": [
  {
   "cell_type": "code",
   "execution_count": 9,
   "metadata": {},
   "outputs": [],
   "source": [
    "from facenet_pytorch import MTCNN, InceptionResnetV1\n",
    "from data import LipReadingData\n",
    "import torch\n",
    "from torch.utils.data import DataLoader\n",
    "import matplotlib.pyplot as plt\n",
    "from PIL import Image\n",
    "import torchvision.transforms.functional as F\n",
    "import numpy as np\n",
    "\n",
    "from sklearn.svm import SVC\n",
    "from sklearn.model_selection import train_test_split\n",
    "from sklearn.pipeline import Pipeline\n",
    "from sklearn.preprocessing import StandardScaler"
   ]
  },
  {
   "cell_type": "code",
   "execution_count": 2,
   "metadata": {},
   "outputs": [],
   "source": [
    "%load_ext autoreload\n",
    "%autoreload 2"
   ]
  },
  {
   "cell_type": "code",
   "execution_count": 3,
   "metadata": {},
   "outputs": [],
   "source": [
    "mtcnn = MTCNN(\n",
    "    image_size=160, margin=0, min_face_size=20,\n",
    "    thresholds=[0.6, 0.7, 0.7], factor=0.709, post_process=True\n",
    ")\n",
    "\n",
    "# # Create an inception resnet (in eval mode):\n",
    "resnet = InceptionResnetV1(pretrained='vggface2').eval()"
   ]
  },
  {
   "cell_type": "code",
   "execution_count": 4,
   "metadata": {},
   "outputs": [],
   "source": [
    "training_data = LipReadingData('data/labels.csv', 'data/images')\n",
    "train_dataloader = DataLoader(training_data, batch_size=1, shuffle=False)    "
   ]
  },
  {
   "cell_type": "code",
   "execution_count": 5,
   "metadata": {},
   "outputs": [
    {
     "output_type": "execute_result",
     "data": {
      "text/plain": [
       "1405"
      ]
     },
     "metadata": {},
     "execution_count": 5
    }
   ],
   "source": [
    "len(training_data)"
   ]
  },
  {
   "cell_type": "code",
   "execution_count": 11,
   "metadata": {},
   "outputs": [
    {
     "output_type": "stream",
     "name": "stdout",
     "text": [
      "[[ 0.03505049  0.01917475  0.05368248 ... -0.00045949  0.01423905\n  -0.02000737]\n [ 0.02781379  0.01840598  0.05715199 ... -0.01897375  0.01132588\n  -0.02340254]\n [ 0.03245189  0.01203464  0.04270403 ... -0.01583792  0.00617604\n  -0.01759676]\n ...\n [ 0.00022129  0.05210192  0.0401425  ... -0.0315658   0.03115914\n  -0.02125592]\n [-0.00865102  0.05984825  0.04916072 ... -0.02013059  0.02772941\n  -0.01559018]\n [ 0.0019372   0.05788144  0.04553071 ... -0.01368961  0.03738432\n  -0.00693679]]\n"
     ]
    }
   ],
   "source": [
    "# Calculate embedding matrix\n",
    "num_images = 300 #Run to 1405 given more time\n",
    "X = np.zeros((num_images, 512))\n",
    "y = np.zeros(num_images)\n",
    "for i, (img, label) in enumerate(iter(train_dataloader)):\n",
    "    if i >= num_images:\n",
    "        break\n",
    "    img = F.to_pil_image(img.squeeze())\n",
    "    img_cropped = mtcnn(img) #TODO: fix image saving\n",
    "    img_embedding = resnet(img_cropped.unsqueeze(0))\n",
    "    X[i, :] = img_embedding.detach().numpy()\n",
    "    y[i] = label[0]\n",
    "print(X)"
   ]
  },
  {
   "cell_type": "code",
   "execution_count": 13,
   "metadata": {},
   "outputs": [
    {
     "output_type": "stream",
     "name": "stdout",
     "text": [
      "[0. 1. 1. 0. 0. 0. 0. 0. 1. 0. 1. 0. 1. 0. 1. 0. 0. 0. 0. 1. 0. 0. 0. 0.\n 1. 0. 1. 0. 0. 0. 1. 1. 0. 0. 1. 0. 1. 0. 1. 0. 0. 0. 0. 0. 0. 0. 1. 0.\n 0. 0. 0. 0. 1. 0. 0. 0. 0. 0. 0. 1. 0. 0. 0. 0. 0. 0. 0. 0. 0. 0. 0. 0.\n 0. 0. 0. 1. 0. 0. 0. 0. 0. 0. 0. 0. 0. 1. 0. 0. 0. 0. 1. 0. 0. 0. 0. 1.\n 0. 0. 0. 0.]\n"
     ]
    }
   ],
   "source": [
    "print(y)"
   ]
  },
  {
   "cell_type": "code",
   "execution_count": 18,
   "metadata": {},
   "outputs": [
    {
     "output_type": "stream",
     "name": "stdout",
     "text": [
      "Accuracy: 0.72\n"
     ]
    }
   ],
   "source": [
    "X_train, X_test, y_train, y_test = train_test_split(X, y, random_state=0)\n",
    "pipe = Pipeline([('scaler', StandardScaler()), ('svc', SVC())])\n",
    "pipe.fit(X_train, y_train)\n",
    "score = pipe.score(X_test, y_test)\n",
    "predictions = pipe.predict(X_test)\n",
    "print('Accuracy:', score)"
   ]
  }
 ]
}